{
 "cells": [
  {
   "cell_type": "code",
   "execution_count": null,
   "metadata": {},
   "outputs": [],
   "source": [
    "import os\n",
    "import sys\n",
    "from src.logger import logging\n",
    "from src.exception import CustomException\n",
    "import pandas as pd\n",
    "from dataclasses import dataclass\n",
    "from sklearn.model_selection import train_test_split\n",
    "\n",
    "@dataclass\n",
    "class Data_ingestion_Config:\n",
    "    train_data_path:str=os.path.join('artifacts','train.csv')\n",
    "    test_data_path:str=os.path.join('artifacts','test.csv')\n",
    "    raw_data_path:str=os.path.join('artifacts','raw.csv')\n",
    "\n",
    "class DataIngestion:\n",
    "\n",
    "    def __init__(self):\n",
    "        self.ingestionconfig=Data_ingestion_Config()\n",
    "\n",
    "    def initiate_data_ingestion(self):\n",
    "        logging.info(\"Initiating the Data Ingestion Process\")\n",
    "\n",
    "        try:\n",
    "            logging.info(\"Reading the Data from source\")\n",
    "            os.makedirs(os.path.join(os.getcwd(),'artifacts'),exist_ok=True)\n",
    "            df=pd.read_csv('D:\\\\Data science\\\\INeuron\\\\INeuron Machine Learning Materials\\\\Project\\\\Notebooks\\\\data\\\\gemstone.csv')\n",
    "            train_data,test_data=train_test_split(df,test_size=0.30,random_state=42)\n",
    "            logging.info(\"Train test data split is successful.\")\n",
    "            logging.info(\"Saving raw data , train data, test data\")\n",
    "            train_data.to_csv(self.ingestionconfig.train_data_path,index=False,header=True)\n",
    "            test_data.to_csv(self.ingestionconfig.test_data_path,index=False,header=True)\n",
    "            df.to_csv(self.ingestionconfig.raw_data_path)\n",
    "            logging.info(\"Data Ingestion is complete.\")\n",
    "\n",
    "            return(self.ingestionconfig.train_data_path,self.ingestionconfig.test_data_path)\n",
    "\n",
    "        except Exception as e:\n",
    "            logging.info(\"Exception has occurred\")\n",
    "            raise CustomException(e,sys)\n",
    "        \n",
    "\n"
   ]
  },
  {
   "cell_type": "code",
   "execution_count": null,
   "metadata": {},
   "outputs": [],
   "source": [
    "a=DataIngestion()"
   ]
  },
  {
   "cell_type": "code",
   "execution_count": null,
   "metadata": {},
   "outputs": [],
   "source": [
    "a.initiate_data_ingestion()\n",
    "print(a)"
   ]
  },
  {
   "cell_type": "code",
   "execution_count": null,
   "metadata": {},
   "outputs": [],
   "source": [
    "os.getcwd()"
   ]
  },
  {
   "cell_type": "code",
   "execution_count": 1,
   "metadata": {},
   "outputs": [],
   "source": [
    "from src.pipeline.prediction_pipeline import PredictionPipeline,PredictionPipelineDataPrepare"
   ]
  },
  {
   "cell_type": "code",
   "execution_count": 5,
   "metadata": {},
   "outputs": [],
   "source": [
    "obj=PredictionPipeline()\n",
    "dataprepare=PredictionPipelineDataPrepare(24,5,29,5,6,8,'Premium','F','VS2')"
   ]
  },
  {
   "cell_type": "code",
   "execution_count": 6,
   "metadata": {},
   "outputs": [],
   "source": [
    "features=dataprepare.dataframegeneration()"
   ]
  },
  {
   "cell_type": "code",
   "execution_count": 7,
   "metadata": {},
   "outputs": [
    {
     "data": {
      "text/plain": [
       "array([334538.16784151])"
      ]
     },
     "execution_count": 7,
     "metadata": {},
     "output_type": "execute_result"
    }
   ],
   "source": [
    "obj.predict(features)"
   ]
  },
  {
   "cell_type": "code",
   "execution_count": null,
   "metadata": {},
   "outputs": [],
   "source": [
    "dir_path\n"
   ]
  },
  {
   "cell_type": "code",
   "execution_count": null,
   "metadata": {},
   "outputs": [],
   "source": [
    "dir_path\n",
    "import pickle"
   ]
  },
  {
   "cell_type": "code",
   "execution_count": null,
   "metadata": {},
   "outputs": [],
   "source": [
    "with open('D:\\\\Data science\\\\INeuron\\\\INeuron Machine Learning Materials\\\\Project\\\\artifacts\\\\preprocessor.pkl','rb') as f:\n",
    "    a=pickle.load(f)"
   ]
  },
  {
   "cell_type": "code",
   "execution_count": null,
   "metadata": {},
   "outputs": [],
   "source": [
    "b=a.transform(features)"
   ]
  },
  {
   "cell_type": "code",
   "execution_count": null,
   "metadata": {},
   "outputs": [],
   "source": [
    "b"
   ]
  },
  {
   "cell_type": "code",
   "execution_count": null,
   "metadata": {},
   "outputs": [],
   "source": []
  }
 ],
 "metadata": {
  "kernelspec": {
   "display_name": "Python 3",
   "language": "python",
   "name": "python3"
  },
  "language_info": {
   "codemirror_mode": {
    "name": "ipython",
    "version": 3
   },
   "file_extension": ".py",
   "mimetype": "text/x-python",
   "name": "python",
   "nbconvert_exporter": "python",
   "pygments_lexer": "ipython3",
   "version": "3.8.0"
  },
  "orig_nbformat": 4
 },
 "nbformat": 4,
 "nbformat_minor": 2
}
